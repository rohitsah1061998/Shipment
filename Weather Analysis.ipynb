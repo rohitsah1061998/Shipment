{
 "cells": [
  {
   "cell_type": "code",
   "execution_count": 2,
   "id": "convertible-turner",
   "metadata": {},
   "outputs": [],
   "source": [
    "dataset_url = 'https://www.kaggle.com/sobhanmoosavi/us-weather-events' "
   ]
  },
  {
   "cell_type": "code",
   "execution_count": 2,
   "id": "yellow-colony",
   "metadata": {},
   "outputs": [
    {
     "name": "stdout",
     "output_type": "stream",
     "text": [
      "Please provide your Kaggle credentials to download this dataset. Learn more: http://bit.ly/kaggle-creds\n",
      "Your Kaggle username: rohitsah1061998\n",
      "Your Kaggle Key: ········\n"
     ]
    },
    {
     "name": "stderr",
     "output_type": "stream",
     "text": [
      "\r",
      "  0%|                                                                                      | 0.00/61.7M [00:00<?, ?B/s]"
     ]
    },
    {
     "name": "stdout",
     "output_type": "stream",
     "text": [
      "Downloading us-weather-events.zip to .\\us-weather-events\n"
     ]
    },
    {
     "name": "stderr",
     "output_type": "stream",
     "text": [
      "100%|██████████████████████████████████████████████████████████████████████████████| 61.7M/61.7M [04:14<00:00, 254kB/s]\n"
     ]
    },
    {
     "name": "stdout",
     "output_type": "stream",
     "text": [
      "\n"
     ]
    }
   ],
   "source": [
    "\n",
    "!pip install opendatasets --upgrade --quiet\n",
    "\n",
    "import opendatasets as od\n",
    "od.download(dataset_url)"
   ]
  },
  {
   "cell_type": "code",
   "execution_count": 2,
   "id": "excessive-retention",
   "metadata": {},
   "outputs": [],
   "source": [
    "data_dir =\"./us-weather-events\""
   ]
  },
  {
   "cell_type": "code",
   "execution_count": 3,
   "id": "painted-strength",
   "metadata": {},
   "outputs": [],
   "source": [
    "import os"
   ]
  },
  {
   "cell_type": "code",
   "execution_count": 4,
   "id": "clinical-course",
   "metadata": {},
   "outputs": [
    {
     "data": {
      "text/plain": [
       "['WeatherEvents_Jan2016-Dec2020.csv']"
      ]
     },
     "execution_count": 4,
     "metadata": {},
     "output_type": "execute_result"
    }
   ],
   "source": [
    "os.listdir(data_dir)"
   ]
  },
  {
   "cell_type": "code",
   "execution_count": 5,
   "id": "green-victor",
   "metadata": {},
   "outputs": [],
   "source": [
    "import pandas as pd\n",
    "weather_df = pd.read_csv(data_dir +'/WeatherEvents_Jan2016-Dec2020.csv')"
   ]
  },
  {
   "cell_type": "code",
   "execution_count": 6,
   "id": "challenging-douglas",
   "metadata": {},
   "outputs": [
    {
     "data": {
      "text/html": [
       "<div>\n",
       "<style scoped>\n",
       "    .dataframe tbody tr th:only-of-type {\n",
       "        vertical-align: middle;\n",
       "    }\n",
       "\n",
       "    .dataframe tbody tr th {\n",
       "        vertical-align: top;\n",
       "    }\n",
       "\n",
       "    .dataframe thead th {\n",
       "        text-align: right;\n",
       "    }\n",
       "</style>\n",
       "<table border=\"1\" class=\"dataframe\">\n",
       "  <thead>\n",
       "    <tr style=\"text-align: right;\">\n",
       "      <th></th>\n",
       "      <th>EventId</th>\n",
       "      <th>Type</th>\n",
       "      <th>Severity</th>\n",
       "      <th>StartTime(UTC)</th>\n",
       "      <th>EndTime(UTC)</th>\n",
       "      <th>TimeZone</th>\n",
       "      <th>AirportCode</th>\n",
       "      <th>LocationLat</th>\n",
       "      <th>LocationLng</th>\n",
       "      <th>City</th>\n",
       "      <th>County</th>\n",
       "      <th>State</th>\n",
       "      <th>ZipCode</th>\n",
       "    </tr>\n",
       "  </thead>\n",
       "  <tbody>\n",
       "    <tr>\n",
       "      <th>0</th>\n",
       "      <td>W-1</td>\n",
       "      <td>Snow</td>\n",
       "      <td>Light</td>\n",
       "      <td>2016-01-06 23:14:00</td>\n",
       "      <td>2016-01-07 00:34:00</td>\n",
       "      <td>US/Mountain</td>\n",
       "      <td>K04V</td>\n",
       "      <td>38.0972</td>\n",
       "      <td>-106.1689</td>\n",
       "      <td>Saguache</td>\n",
       "      <td>Saguache</td>\n",
       "      <td>CO</td>\n",
       "      <td>81149.0</td>\n",
       "    </tr>\n",
       "    <tr>\n",
       "      <th>1</th>\n",
       "      <td>W-2</td>\n",
       "      <td>Snow</td>\n",
       "      <td>Light</td>\n",
       "      <td>2016-01-07 04:14:00</td>\n",
       "      <td>2016-01-07 04:54:00</td>\n",
       "      <td>US/Mountain</td>\n",
       "      <td>K04V</td>\n",
       "      <td>38.0972</td>\n",
       "      <td>-106.1689</td>\n",
       "      <td>Saguache</td>\n",
       "      <td>Saguache</td>\n",
       "      <td>CO</td>\n",
       "      <td>81149.0</td>\n",
       "    </tr>\n",
       "    <tr>\n",
       "      <th>2</th>\n",
       "      <td>W-3</td>\n",
       "      <td>Snow</td>\n",
       "      <td>Light</td>\n",
       "      <td>2016-01-07 05:54:00</td>\n",
       "      <td>2016-01-07 15:34:00</td>\n",
       "      <td>US/Mountain</td>\n",
       "      <td>K04V</td>\n",
       "      <td>38.0972</td>\n",
       "      <td>-106.1689</td>\n",
       "      <td>Saguache</td>\n",
       "      <td>Saguache</td>\n",
       "      <td>CO</td>\n",
       "      <td>81149.0</td>\n",
       "    </tr>\n",
       "    <tr>\n",
       "      <th>3</th>\n",
       "      <td>W-4</td>\n",
       "      <td>Snow</td>\n",
       "      <td>Light</td>\n",
       "      <td>2016-01-08 05:34:00</td>\n",
       "      <td>2016-01-08 05:54:00</td>\n",
       "      <td>US/Mountain</td>\n",
       "      <td>K04V</td>\n",
       "      <td>38.0972</td>\n",
       "      <td>-106.1689</td>\n",
       "      <td>Saguache</td>\n",
       "      <td>Saguache</td>\n",
       "      <td>CO</td>\n",
       "      <td>81149.0</td>\n",
       "    </tr>\n",
       "    <tr>\n",
       "      <th>4</th>\n",
       "      <td>W-5</td>\n",
       "      <td>Snow</td>\n",
       "      <td>Light</td>\n",
       "      <td>2016-01-08 13:54:00</td>\n",
       "      <td>2016-01-08 15:54:00</td>\n",
       "      <td>US/Mountain</td>\n",
       "      <td>K04V</td>\n",
       "      <td>38.0972</td>\n",
       "      <td>-106.1689</td>\n",
       "      <td>Saguache</td>\n",
       "      <td>Saguache</td>\n",
       "      <td>CO</td>\n",
       "      <td>81149.0</td>\n",
       "    </tr>\n",
       "    <tr>\n",
       "      <th>...</th>\n",
       "      <td>...</td>\n",
       "      <td>...</td>\n",
       "      <td>...</td>\n",
       "      <td>...</td>\n",
       "      <td>...</td>\n",
       "      <td>...</td>\n",
       "      <td>...</td>\n",
       "      <td>...</td>\n",
       "      <td>...</td>\n",
       "      <td>...</td>\n",
       "      <td>...</td>\n",
       "      <td>...</td>\n",
       "      <td>...</td>\n",
       "    </tr>\n",
       "    <tr>\n",
       "      <th>6274201</th>\n",
       "      <td>W-6276144</td>\n",
       "      <td>Snow</td>\n",
       "      <td>Light</td>\n",
       "      <td>2020-12-14 17:30:00</td>\n",
       "      <td>2020-12-15 01:53:00</td>\n",
       "      <td>US/Mountain</td>\n",
       "      <td>KBVR</td>\n",
       "      <td>42.5833</td>\n",
       "      <td>-108.2833</td>\n",
       "      <td>Lander</td>\n",
       "      <td>Fremont</td>\n",
       "      <td>WY</td>\n",
       "      <td>82520.0</td>\n",
       "    </tr>\n",
       "    <tr>\n",
       "      <th>6274202</th>\n",
       "      <td>W-6276145</td>\n",
       "      <td>Snow</td>\n",
       "      <td>Moderate</td>\n",
       "      <td>2020-12-15 01:53:00</td>\n",
       "      <td>2020-12-15 03:19:00</td>\n",
       "      <td>US/Mountain</td>\n",
       "      <td>KBVR</td>\n",
       "      <td>42.5833</td>\n",
       "      <td>-108.2833</td>\n",
       "      <td>Lander</td>\n",
       "      <td>Fremont</td>\n",
       "      <td>WY</td>\n",
       "      <td>82520.0</td>\n",
       "    </tr>\n",
       "    <tr>\n",
       "      <th>6274203</th>\n",
       "      <td>W-6276146</td>\n",
       "      <td>Snow</td>\n",
       "      <td>Light</td>\n",
       "      <td>2020-12-15 03:19:00</td>\n",
       "      <td>2020-12-15 05:53:00</td>\n",
       "      <td>US/Mountain</td>\n",
       "      <td>KBVR</td>\n",
       "      <td>42.5833</td>\n",
       "      <td>-108.2833</td>\n",
       "      <td>Lander</td>\n",
       "      <td>Fremont</td>\n",
       "      <td>WY</td>\n",
       "      <td>82520.0</td>\n",
       "    </tr>\n",
       "    <tr>\n",
       "      <th>6274204</th>\n",
       "      <td>W-6276147</td>\n",
       "      <td>Snow</td>\n",
       "      <td>Light</td>\n",
       "      <td>2020-12-23 04:24:00</td>\n",
       "      <td>2020-12-23 05:53:00</td>\n",
       "      <td>US/Mountain</td>\n",
       "      <td>KBVR</td>\n",
       "      <td>42.5833</td>\n",
       "      <td>-108.2833</td>\n",
       "      <td>Lander</td>\n",
       "      <td>Fremont</td>\n",
       "      <td>WY</td>\n",
       "      <td>82520.0</td>\n",
       "    </tr>\n",
       "    <tr>\n",
       "      <th>6274205</th>\n",
       "      <td>W-6276148</td>\n",
       "      <td>Snow</td>\n",
       "      <td>Light</td>\n",
       "      <td>2020-12-23 10:53:00</td>\n",
       "      <td>2020-12-23 11:26:00</td>\n",
       "      <td>US/Mountain</td>\n",
       "      <td>KBVR</td>\n",
       "      <td>42.5833</td>\n",
       "      <td>-108.2833</td>\n",
       "      <td>Lander</td>\n",
       "      <td>Fremont</td>\n",
       "      <td>WY</td>\n",
       "      <td>82520.0</td>\n",
       "    </tr>\n",
       "  </tbody>\n",
       "</table>\n",
       "<p>6274206 rows × 13 columns</p>\n",
       "</div>"
      ],
      "text/plain": [
       "           EventId  Type  Severity       StartTime(UTC)         EndTime(UTC)  \\\n",
       "0              W-1  Snow     Light  2016-01-06 23:14:00  2016-01-07 00:34:00   \n",
       "1              W-2  Snow     Light  2016-01-07 04:14:00  2016-01-07 04:54:00   \n",
       "2              W-3  Snow     Light  2016-01-07 05:54:00  2016-01-07 15:34:00   \n",
       "3              W-4  Snow     Light  2016-01-08 05:34:00  2016-01-08 05:54:00   \n",
       "4              W-5  Snow     Light  2016-01-08 13:54:00  2016-01-08 15:54:00   \n",
       "...            ...   ...       ...                  ...                  ...   \n",
       "6274201  W-6276144  Snow     Light  2020-12-14 17:30:00  2020-12-15 01:53:00   \n",
       "6274202  W-6276145  Snow  Moderate  2020-12-15 01:53:00  2020-12-15 03:19:00   \n",
       "6274203  W-6276146  Snow     Light  2020-12-15 03:19:00  2020-12-15 05:53:00   \n",
       "6274204  W-6276147  Snow     Light  2020-12-23 04:24:00  2020-12-23 05:53:00   \n",
       "6274205  W-6276148  Snow     Light  2020-12-23 10:53:00  2020-12-23 11:26:00   \n",
       "\n",
       "            TimeZone AirportCode  LocationLat  LocationLng      City  \\\n",
       "0        US/Mountain        K04V      38.0972    -106.1689  Saguache   \n",
       "1        US/Mountain        K04V      38.0972    -106.1689  Saguache   \n",
       "2        US/Mountain        K04V      38.0972    -106.1689  Saguache   \n",
       "3        US/Mountain        K04V      38.0972    -106.1689  Saguache   \n",
       "4        US/Mountain        K04V      38.0972    -106.1689  Saguache   \n",
       "...              ...         ...          ...          ...       ...   \n",
       "6274201  US/Mountain        KBVR      42.5833    -108.2833    Lander   \n",
       "6274202  US/Mountain        KBVR      42.5833    -108.2833    Lander   \n",
       "6274203  US/Mountain        KBVR      42.5833    -108.2833    Lander   \n",
       "6274204  US/Mountain        KBVR      42.5833    -108.2833    Lander   \n",
       "6274205  US/Mountain        KBVR      42.5833    -108.2833    Lander   \n",
       "\n",
       "           County State  ZipCode  \n",
       "0        Saguache    CO  81149.0  \n",
       "1        Saguache    CO  81149.0  \n",
       "2        Saguache    CO  81149.0  \n",
       "3        Saguache    CO  81149.0  \n",
       "4        Saguache    CO  81149.0  \n",
       "...           ...   ...      ...  \n",
       "6274201   Fremont    WY  82520.0  \n",
       "6274202   Fremont    WY  82520.0  \n",
       "6274203   Fremont    WY  82520.0  \n",
       "6274204   Fremont    WY  82520.0  \n",
       "6274205   Fremont    WY  82520.0  \n",
       "\n",
       "[6274206 rows x 13 columns]"
      ]
     },
     "execution_count": 6,
     "metadata": {},
     "output_type": "execute_result"
    }
   ],
   "source": [
    "weather_df"
   ]
  },
  {
   "cell_type": "code",
   "execution_count": 7,
   "id": "material-commerce",
   "metadata": {},
   "outputs": [
    {
     "data": {
      "text/html": [
       "<div>\n",
       "<style scoped>\n",
       "    .dataframe tbody tr th:only-of-type {\n",
       "        vertical-align: middle;\n",
       "    }\n",
       "\n",
       "    .dataframe tbody tr th {\n",
       "        vertical-align: top;\n",
       "    }\n",
       "\n",
       "    .dataframe thead th {\n",
       "        text-align: right;\n",
       "    }\n",
       "</style>\n",
       "<table border=\"1\" class=\"dataframe\">\n",
       "  <thead>\n",
       "    <tr style=\"text-align: right;\">\n",
       "      <th></th>\n",
       "      <th>EventId</th>\n",
       "      <th>Type</th>\n",
       "      <th>Severity</th>\n",
       "      <th>StartTime(UTC)</th>\n",
       "      <th>EndTime(UTC)</th>\n",
       "      <th>TimeZone</th>\n",
       "      <th>AirportCode</th>\n",
       "      <th>LocationLat</th>\n",
       "      <th>LocationLng</th>\n",
       "      <th>City</th>\n",
       "      <th>County</th>\n",
       "      <th>State</th>\n",
       "      <th>ZipCode</th>\n",
       "    </tr>\n",
       "  </thead>\n",
       "  <tbody>\n",
       "    <tr>\n",
       "      <th>1046456</th>\n",
       "      <td>W-1046760</td>\n",
       "      <td>Snow</td>\n",
       "      <td>Moderate</td>\n",
       "      <td>2018-01-07 18:30:00</td>\n",
       "      <td>2018-01-07 18:41:00</td>\n",
       "      <td>US/Eastern</td>\n",
       "      <td>KANJ</td>\n",
       "      <td>46.4794</td>\n",
       "      <td>-84.3572</td>\n",
       "      <td>Sault Sainte Marie</td>\n",
       "      <td>Chippewa</td>\n",
       "      <td>MI</td>\n",
       "      <td>49783.0</td>\n",
       "    </tr>\n",
       "    <tr>\n",
       "      <th>4732242</th>\n",
       "      <td>W-4733746</td>\n",
       "      <td>Rain</td>\n",
       "      <td>Light</td>\n",
       "      <td>2020-09-29 17:53:00</td>\n",
       "      <td>2020-09-29 18:45:00</td>\n",
       "      <td>US/Eastern</td>\n",
       "      <td>KPEO</td>\n",
       "      <td>42.6439</td>\n",
       "      <td>-77.0530</td>\n",
       "      <td>Penn Yan</td>\n",
       "      <td>Yates</td>\n",
       "      <td>NY</td>\n",
       "      <td>14527.0</td>\n",
       "    </tr>\n",
       "    <tr>\n",
       "      <th>5666116</th>\n",
       "      <td>W-5667873</td>\n",
       "      <td>Rain</td>\n",
       "      <td>Light</td>\n",
       "      <td>2018-10-23 10:53:00</td>\n",
       "      <td>2018-10-23 12:53:00</td>\n",
       "      <td>US/Central</td>\n",
       "      <td>KPSX</td>\n",
       "      <td>28.7248</td>\n",
       "      <td>-96.2535</td>\n",
       "      <td>Palacios</td>\n",
       "      <td>Matagorda</td>\n",
       "      <td>TX</td>\n",
       "      <td>77465.0</td>\n",
       "    </tr>\n",
       "    <tr>\n",
       "      <th>103508</th>\n",
       "      <td>W-103530</td>\n",
       "      <td>Rain</td>\n",
       "      <td>Light</td>\n",
       "      <td>2019-11-07 09:51:00</td>\n",
       "      <td>2019-11-07 11:51:00</td>\n",
       "      <td>US/Eastern</td>\n",
       "      <td>KCAK</td>\n",
       "      <td>40.9181</td>\n",
       "      <td>-81.4434</td>\n",
       "      <td>Green</td>\n",
       "      <td>Summit</td>\n",
       "      <td>OH</td>\n",
       "      <td>44720.0</td>\n",
       "    </tr>\n",
       "    <tr>\n",
       "      <th>4766100</th>\n",
       "      <td>W-4767610</td>\n",
       "      <td>Rain</td>\n",
       "      <td>Light</td>\n",
       "      <td>2020-09-01 19:47:00</td>\n",
       "      <td>2020-09-01 19:53:00</td>\n",
       "      <td>US/Central</td>\n",
       "      <td>KTKI</td>\n",
       "      <td>33.1779</td>\n",
       "      <td>-96.5905</td>\n",
       "      <td>Mckinney</td>\n",
       "      <td>Collin</td>\n",
       "      <td>TX</td>\n",
       "      <td>75069.0</td>\n",
       "    </tr>\n",
       "    <tr>\n",
       "      <th>9277</th>\n",
       "      <td>W-9280</td>\n",
       "      <td>Fog</td>\n",
       "      <td>Severe</td>\n",
       "      <td>2016-03-17 13:35:00</td>\n",
       "      <td>2016-03-17 15:15:00</td>\n",
       "      <td>US/Central</td>\n",
       "      <td>KBTR</td>\n",
       "      <td>30.5378</td>\n",
       "      <td>-91.1468</td>\n",
       "      <td>Baton Rouge</td>\n",
       "      <td>East Baton Rouge</td>\n",
       "      <td>LA</td>\n",
       "      <td>70807.0</td>\n",
       "    </tr>\n",
       "    <tr>\n",
       "      <th>209408</th>\n",
       "      <td>W-209446</td>\n",
       "      <td>Rain</td>\n",
       "      <td>Light</td>\n",
       "      <td>2016-06-16 05:54:00</td>\n",
       "      <td>2016-06-16 06:54:00</td>\n",
       "      <td>US/Eastern</td>\n",
       "      <td>KDSV</td>\n",
       "      <td>42.5709</td>\n",
       "      <td>-77.7131</td>\n",
       "      <td>North Dansville</td>\n",
       "      <td>Livingston</td>\n",
       "      <td>NY</td>\n",
       "      <td>14437.0</td>\n",
       "    </tr>\n",
       "    <tr>\n",
       "      <th>5476245</th>\n",
       "      <td>W-5477957</td>\n",
       "      <td>Fog</td>\n",
       "      <td>Severe</td>\n",
       "      <td>2019-02-22 21:27:00</td>\n",
       "      <td>2019-02-22 21:35:00</td>\n",
       "      <td>US/Mountain</td>\n",
       "      <td>KDRO</td>\n",
       "      <td>37.1431</td>\n",
       "      <td>-107.7602</td>\n",
       "      <td>Ignacio</td>\n",
       "      <td>La Plata</td>\n",
       "      <td>CO</td>\n",
       "      <td>81137.0</td>\n",
       "    </tr>\n",
       "    <tr>\n",
       "      <th>2676163</th>\n",
       "      <td>W-2676981</td>\n",
       "      <td>Snow</td>\n",
       "      <td>Light</td>\n",
       "      <td>2017-01-07 10:00:00</td>\n",
       "      <td>2017-01-07 10:40:00</td>\n",
       "      <td>US/Eastern</td>\n",
       "      <td>KW29</td>\n",
       "      <td>38.9767</td>\n",
       "      <td>-76.3300</td>\n",
       "      <td>Stevensville</td>\n",
       "      <td>Queen Anne's</td>\n",
       "      <td>MD</td>\n",
       "      <td>21666.0</td>\n",
       "    </tr>\n",
       "    <tr>\n",
       "      <th>4756920</th>\n",
       "      <td>W-4758430</td>\n",
       "      <td>Rain</td>\n",
       "      <td>Light</td>\n",
       "      <td>2016-08-22 00:53:00</td>\n",
       "      <td>2016-08-22 01:53:00</td>\n",
       "      <td>US/Eastern</td>\n",
       "      <td>KBIV</td>\n",
       "      <td>42.7461</td>\n",
       "      <td>-86.0967</td>\n",
       "      <td>Holland</td>\n",
       "      <td>Allegan</td>\n",
       "      <td>MI</td>\n",
       "      <td>49423.0</td>\n",
       "    </tr>\n",
       "  </tbody>\n",
       "</table>\n",
       "</div>"
      ],
      "text/plain": [
       "           EventId  Type  Severity       StartTime(UTC)         EndTime(UTC)  \\\n",
       "1046456  W-1046760  Snow  Moderate  2018-01-07 18:30:00  2018-01-07 18:41:00   \n",
       "4732242  W-4733746  Rain     Light  2020-09-29 17:53:00  2020-09-29 18:45:00   \n",
       "5666116  W-5667873  Rain     Light  2018-10-23 10:53:00  2018-10-23 12:53:00   \n",
       "103508    W-103530  Rain     Light  2019-11-07 09:51:00  2019-11-07 11:51:00   \n",
       "4766100  W-4767610  Rain     Light  2020-09-01 19:47:00  2020-09-01 19:53:00   \n",
       "9277        W-9280   Fog    Severe  2016-03-17 13:35:00  2016-03-17 15:15:00   \n",
       "209408    W-209446  Rain     Light  2016-06-16 05:54:00  2016-06-16 06:54:00   \n",
       "5476245  W-5477957   Fog    Severe  2019-02-22 21:27:00  2019-02-22 21:35:00   \n",
       "2676163  W-2676981  Snow     Light  2017-01-07 10:00:00  2017-01-07 10:40:00   \n",
       "4756920  W-4758430  Rain     Light  2016-08-22 00:53:00  2016-08-22 01:53:00   \n",
       "\n",
       "            TimeZone AirportCode  LocationLat  LocationLng  \\\n",
       "1046456   US/Eastern        KANJ      46.4794     -84.3572   \n",
       "4732242   US/Eastern        KPEO      42.6439     -77.0530   \n",
       "5666116   US/Central        KPSX      28.7248     -96.2535   \n",
       "103508    US/Eastern        KCAK      40.9181     -81.4434   \n",
       "4766100   US/Central        KTKI      33.1779     -96.5905   \n",
       "9277      US/Central        KBTR      30.5378     -91.1468   \n",
       "209408    US/Eastern        KDSV      42.5709     -77.7131   \n",
       "5476245  US/Mountain        KDRO      37.1431    -107.7602   \n",
       "2676163   US/Eastern        KW29      38.9767     -76.3300   \n",
       "4756920   US/Eastern        KBIV      42.7461     -86.0967   \n",
       "\n",
       "                       City            County State  ZipCode  \n",
       "1046456  Sault Sainte Marie          Chippewa    MI  49783.0  \n",
       "4732242            Penn Yan             Yates    NY  14527.0  \n",
       "5666116            Palacios         Matagorda    TX  77465.0  \n",
       "103508                Green            Summit    OH  44720.0  \n",
       "4766100            Mckinney            Collin    TX  75069.0  \n",
       "9277            Baton Rouge  East Baton Rouge    LA  70807.0  \n",
       "209408      North Dansville        Livingston    NY  14437.0  \n",
       "5476245             Ignacio          La Plata    CO  81137.0  \n",
       "2676163        Stevensville      Queen Anne's    MD  21666.0  \n",
       "4756920             Holland           Allegan    MI  49423.0  "
      ]
     },
     "execution_count": 7,
     "metadata": {},
     "output_type": "execute_result"
    }
   ],
   "source": [
    "weather_df.sample(10)"
   ]
  },
  {
   "cell_type": "code",
   "execution_count": 8,
   "id": "precise-belize",
   "metadata": {},
   "outputs": [
    {
     "data": {
      "text/plain": [
       "array(['Snow', 'Fog', 'Cold', 'Storm', 'Rain', 'Precipitation', 'Hail'],\n",
       "      dtype=object)"
      ]
     },
     "execution_count": 8,
     "metadata": {},
     "output_type": "execute_result"
    }
   ],
   "source": [
    "weather_df['Type'].unique()"
   ]
  },
  {
   "cell_type": "code",
   "execution_count": 9,
   "id": "answering-understanding",
   "metadata": {},
   "outputs": [
    {
     "data": {
      "text/plain": [
       "Type\n",
       "Rain             3752341\n",
       "Fog              1385264\n",
       "Snow              827555\n",
       "Cold              169182\n",
       "Precipitation      96684\n",
       "Storm              40553\n",
       "Hail                2627\n",
       "dtype: int64"
      ]
     },
     "execution_count": 9,
     "metadata": {},
     "output_type": "execute_result"
    }
   ],
   "source": [
    "weather_df.value_counts('Type')"
   ]
  },
  {
   "cell_type": "code",
   "execution_count": 10,
   "id": "elementary-buyer",
   "metadata": {},
   "outputs": [],
   "source": [
    "import matplotlib.pyplot as plt"
   ]
  },
  {
   "cell_type": "code",
   "execution_count": 11,
   "id": "theoretical-grant",
   "metadata": {},
   "outputs": [
    {
     "data": {
      "text/plain": [
       "<BarContainer object of 7 artists>"
      ]
     },
     "execution_count": 11,
     "metadata": {},
     "output_type": "execute_result"
    },
    {
     "data": {
      "image/png": "[encoded data removed]",
      "text/plain": [
       "<Figure size 432x288 with 1 Axes>"
      ]
     },
     "metadata": {
      "needs_background": "light"
     },
     "output_type": "display_data"
    }
   ],
   "source": [
    "y=[1,2,3,4,5,6,7]\n",
    "plt.bar(y,weather_df['Type'].unique())"
   ]
  },
  {
   "cell_type": "code",
   "execution_count": 12,
   "id": "urban-gallery",
   "metadata": {},
   "outputs": [
    {
     "data": {
      "image/png": "[encoded data removed]",
      "text/plain": [
       "<Figure size 432x288 with 1 Axes>"
      ]
     },
     "metadata": {},
     "output_type": "display_data"
    }
   ],
   "source": [
    "import matplotlib.pyplot as plt\n",
    "slices=[3752341,1385264,827555,169182,96684,40553,2627]\n",
    "activities=['Rain','Fog','Snow','Cold','Precipitation','Storm','Hail']\n",
    "cols=['r','b','g','c','k','m','y']\n",
    "\n",
    "plt.pie(slices,\n",
    "        labels=activities,\n",
    "        colors=cols,\n",
    "        startangle=0,\n",
    "        shadow=True,\n",
    "        explode=(0,0,0,0,0,0,0),\n",
    "        autopct='% 1.1f%% ')\n",
    "        \n",
    "plt.title('New Pie')\n",
    "plt.show()"
   ]
  },
  {
   "cell_type": "code",
   "execution_count": 13,
   "id": "norman-preservation",
   "metadata": {},
   "outputs": [
    {
     "data": {
      "text/plain": [
       "array(['Saguache', 'Altus', 'Albert Lea', ..., 'Camdenton',\n",
       "       'Battle Mountain', 'Rock River'], dtype=object)"
      ]
     },
     "execution_count": 13,
     "metadata": {},
     "output_type": "execute_result"
    }
   ],
   "source": [
    "weather_df['City'].unique()"
   ]
  },
  {
   "cell_type": "code",
   "execution_count": 14,
   "id": "cosmetic-chapel",
   "metadata": {},
   "outputs": [
    {
     "data": {
      "text/plain": [
       "City\n",
       "Jacksonville          25797\n",
       "Columbus              25409\n",
       "Cleveland             23787\n",
       "Washington            21944\n",
       "Greenville            21814\n",
       "                      ...  \n",
       "Jordan Valley            48\n",
       "Campo                    43\n",
       "Hanksville               27\n",
       "Colville                 25\n",
       "South Padre Island        8\n",
       "Length: 1716, dtype: int64"
      ]
     },
     "execution_count": 14,
     "metadata": {},
     "output_type": "execute_result"
    }
   ],
   "source": [
    "weather_df.value_counts('City')"
   ]
  },
  {
   "cell_type": "code",
   "execution_count": 15,
   "id": "second-funeral",
   "metadata": {},
   "outputs": [
    {
     "data": {
      "text/plain": [
       "[<matplotlib.lines.Line2D at 0x1e1059d9940>]"
      ]
     },
     "execution_count": 15,
     "metadata": {},
     "output_type": "execute_result"
    },
    {
     "data": {
      "image/png": "[encoded data removed]",
      "text/plain": [
       "<Figure size 432x288 with 1 Axes>"
      ]
     },
     "metadata": {
      "needs_background": "light"
     },
     "output_type": "display_data"
    }
   ],
   "source": [
    "import seaborn as sns\n",
    "x=[1,2,3,4,5,6,7,8,9,10]\n",
    "y=weather_df['City'].head(10)\n",
    "plt.plot(x,y)"
   ]
  },
  {
   "cell_type": "code",
   "execution_count": 16,
   "id": "physical-activation",
   "metadata": {},
   "outputs": [
    {
     "data": {
      "text/plain": [
       "City\n",
       "Jacksonville    25797\n",
       "Columbus        25409\n",
       "Cleveland       23787\n",
       "Washington      21944\n",
       "Greenville      21814\n",
       "Jackson         20010\n",
       "Marion          17000\n",
       "Burlington      16338\n",
       "Buffalo         15693\n",
       "South Beach     15638\n",
       "dtype: int64"
      ]
     },
     "execution_count": 16,
     "metadata": {},
     "output_type": "execute_result"
    }
   ],
   "source": [
    "weather_df.value_counts('City').head(10)"
   ]
  },
  {
   "cell_type": "code",
   "execution_count": 17,
   "id": "parallel-difficulty",
   "metadata": {},
   "outputs": [
    {
     "data": {
      "image/png": "[encoded data removed]",
      "text/plain": [
       "<Figure size 432x288 with 1 Axes>"
      ]
     },
     "metadata": {
      "needs_background": "light"
     },
     "output_type": "display_data"
    }
   ],
   "source": [
    "import matplotlib.pyplot as plt\n",
    "x=['Jacksonville','Columbus','Cleveland','Washington','Greenville','Jackson','Marion','Burlington','Buffalo','South Beach']\n",
    "y=[25797,25409,23787,21944,21814,20010,17000,16338,15693,15638]\n",
    "\n",
    "plt.title('plot')\n",
    "plt.plot(x,y)\n",
    "plt.xlabel('Cities Name')\n",
    "plt.ylabel('Population')\n",
    "plt.show()"
   ]
  },
  {
   "cell_type": "code",
   "execution_count": 18,
   "id": "current-involvement",
   "metadata": {},
   "outputs": [
    {
     "data": {
      "image/png": "[encoded data removed]",
      "text/plain": [
       "<Figure size 864x432 with 1 Axes>"
      ]
     },
     "metadata": {
      "needs_background": "light"
     },
     "output_type": "display_data"
    }
   ],
   "source": [
    "import matplotlib.pyplot as plt\n",
    "x=['Jacksonville','Columbus','Cleveland','Washington','Greenville','Jackson','Marion','Burlington','Buffalo','South Beach']\n",
    "y=[25797,25409,23787,21944,21814,20010,17000,16338,15693,15638]\n",
    "\n",
    "\n",
    "plt.figure(figsize=(12, 6))\n",
    "plt.title('plot')\n",
    "plt.plot(x,y)\n",
    "plt.xlabel('Cities Name')\n",
    "plt.ylabel('Population')\n",
    "plt.show()\n"
   ]
  },
  {
   "cell_type": "code",
   "execution_count": 19,
   "id": "legitimate-somerset",
   "metadata": {},
   "outputs": [
    {
     "data": {
      "image/png": "[encoded data removed]",
      "text/plain": [
       "<Figure size 864x432 with 1 Axes>"
      ]
     },
     "metadata": {
      "needs_background": "light"
     },
     "output_type": "display_data"
    }
   ],
   "source": [
    "import matplotlib.pyplot as plt\n",
    "x=['Jacksonville','Columbus','Cleveland','Washington','Greenville','Jackson','Marion','Burlington','Buffalo','South Beach']\n",
    "y=[25797,25409,23787,21944,21814,20010,17000,16338,15693,15638]\n",
    "\n",
    "\n",
    "plt.figure(figsize=(12, 6))\n",
    "plt.title('plot')\n",
    "plt.bar(x,y)\n",
    "plt.xlabel('Cities Name')\n",
    "plt.ylabel('Population')\n",
    "plt.show()\n"
   ]
  },
  {
   "cell_type": "code",
   "execution_count": 20,
   "id": "increased-flesh",
   "metadata": {},
   "outputs": [
    {
     "data": {
      "text/html": [
       "<div>\n",
       "<style scoped>\n",
       "    .dataframe tbody tr th:only-of-type {\n",
       "        vertical-align: middle;\n",
       "    }\n",
       "\n",
       "    .dataframe tbody tr th {\n",
       "        vertical-align: top;\n",
       "    }\n",
       "\n",
       "    .dataframe thead th {\n",
       "        text-align: right;\n",
       "    }\n",
       "</style>\n",
       "<table border=\"1\" class=\"dataframe\">\n",
       "  <thead>\n",
       "    <tr style=\"text-align: right;\">\n",
       "      <th></th>\n",
       "      <th>EventId</th>\n",
       "      <th>Type</th>\n",
       "      <th>Severity</th>\n",
       "      <th>StartTime(UTC)</th>\n",
       "      <th>EndTime(UTC)</th>\n",
       "      <th>TimeZone</th>\n",
       "      <th>AirportCode</th>\n",
       "      <th>LocationLat</th>\n",
       "      <th>LocationLng</th>\n",
       "      <th>City</th>\n",
       "      <th>County</th>\n",
       "      <th>State</th>\n",
       "      <th>ZipCode</th>\n",
       "    </tr>\n",
       "  </thead>\n",
       "  <tbody>\n",
       "    <tr>\n",
       "      <th>0</th>\n",
       "      <td>W-1</td>\n",
       "      <td>Snow</td>\n",
       "      <td>Light</td>\n",
       "      <td>2016-01-06 23:14:00</td>\n",
       "      <td>2016-01-07 00:34:00</td>\n",
       "      <td>US/Mountain</td>\n",
       "      <td>K04V</td>\n",
       "      <td>38.0972</td>\n",
       "      <td>-106.1689</td>\n",
       "      <td>Saguache</td>\n",
       "      <td>Saguache</td>\n",
       "      <td>CO</td>\n",
       "      <td>81149.0</td>\n",
       "    </tr>\n",
       "    <tr>\n",
       "      <th>1</th>\n",
       "      <td>W-2</td>\n",
       "      <td>Snow</td>\n",
       "      <td>Light</td>\n",
       "      <td>2016-01-07 04:14:00</td>\n",
       "      <td>2016-01-07 04:54:00</td>\n",
       "      <td>US/Mountain</td>\n",
       "      <td>K04V</td>\n",
       "      <td>38.0972</td>\n",
       "      <td>-106.1689</td>\n",
       "      <td>Saguache</td>\n",
       "      <td>Saguache</td>\n",
       "      <td>CO</td>\n",
       "      <td>81149.0</td>\n",
       "    </tr>\n",
       "    <tr>\n",
       "      <th>2</th>\n",
       "      <td>W-3</td>\n",
       "      <td>Snow</td>\n",
       "      <td>Light</td>\n",
       "      <td>2016-01-07 05:54:00</td>\n",
       "      <td>2016-01-07 15:34:00</td>\n",
       "      <td>US/Mountain</td>\n",
       "      <td>K04V</td>\n",
       "      <td>38.0972</td>\n",
       "      <td>-106.1689</td>\n",
       "      <td>Saguache</td>\n",
       "      <td>Saguache</td>\n",
       "      <td>CO</td>\n",
       "      <td>81149.0</td>\n",
       "    </tr>\n",
       "    <tr>\n",
       "      <th>3</th>\n",
       "      <td>W-4</td>\n",
       "      <td>Snow</td>\n",
       "      <td>Light</td>\n",
       "      <td>2016-01-08 05:34:00</td>\n",
       "      <td>2016-01-08 05:54:00</td>\n",
       "      <td>US/Mountain</td>\n",
       "      <td>K04V</td>\n",
       "      <td>38.0972</td>\n",
       "      <td>-106.1689</td>\n",
       "      <td>Saguache</td>\n",
       "      <td>Saguache</td>\n",
       "      <td>CO</td>\n",
       "      <td>81149.0</td>\n",
       "    </tr>\n",
       "    <tr>\n",
       "      <th>4</th>\n",
       "      <td>W-5</td>\n",
       "      <td>Snow</td>\n",
       "      <td>Light</td>\n",
       "      <td>2016-01-08 13:54:00</td>\n",
       "      <td>2016-01-08 15:54:00</td>\n",
       "      <td>US/Mountain</td>\n",
       "      <td>K04V</td>\n",
       "      <td>38.0972</td>\n",
       "      <td>-106.1689</td>\n",
       "      <td>Saguache</td>\n",
       "      <td>Saguache</td>\n",
       "      <td>CO</td>\n",
       "      <td>81149.0</td>\n",
       "    </tr>\n",
       "    <tr>\n",
       "      <th>...</th>\n",
       "      <td>...</td>\n",
       "      <td>...</td>\n",
       "      <td>...</td>\n",
       "      <td>...</td>\n",
       "      <td>...</td>\n",
       "      <td>...</td>\n",
       "      <td>...</td>\n",
       "      <td>...</td>\n",
       "      <td>...</td>\n",
       "      <td>...</td>\n",
       "      <td>...</td>\n",
       "      <td>...</td>\n",
       "      <td>...</td>\n",
       "    </tr>\n",
       "    <tr>\n",
       "      <th>6274201</th>\n",
       "      <td>W-6276144</td>\n",
       "      <td>Snow</td>\n",
       "      <td>Light</td>\n",
       "      <td>2020-12-14 17:30:00</td>\n",
       "      <td>2020-12-15 01:53:00</td>\n",
       "      <td>US/Mountain</td>\n",
       "      <td>KBVR</td>\n",
       "      <td>42.5833</td>\n",
       "      <td>-108.2833</td>\n",
       "      <td>Lander</td>\n",
       "      <td>Fremont</td>\n",
       "      <td>WY</td>\n",
       "      <td>82520.0</td>\n",
       "    </tr>\n",
       "    <tr>\n",
       "      <th>6274202</th>\n",
       "      <td>W-6276145</td>\n",
       "      <td>Snow</td>\n",
       "      <td>Moderate</td>\n",
       "      <td>2020-12-15 01:53:00</td>\n",
       "      <td>2020-12-15 03:19:00</td>\n",
       "      <td>US/Mountain</td>\n",
       "      <td>KBVR</td>\n",
       "      <td>42.5833</td>\n",
       "      <td>-108.2833</td>\n",
       "      <td>Lander</td>\n",
       "      <td>Fremont</td>\n",
       "      <td>WY</td>\n",
       "      <td>82520.0</td>\n",
       "    </tr>\n",
       "    <tr>\n",
       "      <th>6274203</th>\n",
       "      <td>W-6276146</td>\n",
       "      <td>Snow</td>\n",
       "      <td>Light</td>\n",
       "      <td>2020-12-15 03:19:00</td>\n",
       "      <td>2020-12-15 05:53:00</td>\n",
       "      <td>US/Mountain</td>\n",
       "      <td>KBVR</td>\n",
       "      <td>42.5833</td>\n",
       "      <td>-108.2833</td>\n",
       "      <td>Lander</td>\n",
       "      <td>Fremont</td>\n",
       "      <td>WY</td>\n",
       "      <td>82520.0</td>\n",
       "    </tr>\n",
       "    <tr>\n",
       "      <th>6274204</th>\n",
       "      <td>W-6276147</td>\n",
       "      <td>Snow</td>\n",
       "      <td>Light</td>\n",
       "      <td>2020-12-23 04:24:00</td>\n",
       "      <td>2020-12-23 05:53:00</td>\n",
       "      <td>US/Mountain</td>\n",
       "      <td>KBVR</td>\n",
       "      <td>42.5833</td>\n",
       "      <td>-108.2833</td>\n",
       "      <td>Lander</td>\n",
       "      <td>Fremont</td>\n",
       "      <td>WY</td>\n",
       "      <td>82520.0</td>\n",
       "    </tr>\n",
       "    <tr>\n",
       "      <th>6274205</th>\n",
       "      <td>W-6276148</td>\n",
       "      <td>Snow</td>\n",
       "      <td>Light</td>\n",
       "      <td>2020-12-23 10:53:00</td>\n",
       "      <td>2020-12-23 11:26:00</td>\n",
       "      <td>US/Mountain</td>\n",
       "      <td>KBVR</td>\n",
       "      <td>42.5833</td>\n",
       "      <td>-108.2833</td>\n",
       "      <td>Lander</td>\n",
       "      <td>Fremont</td>\n",
       "      <td>WY</td>\n",
       "      <td>82520.0</td>\n",
       "    </tr>\n",
       "  </tbody>\n",
       "</table>\n",
       "<p>6274206 rows × 13 columns</p>\n",
       "</div>"
      ],
      "text/plain": [
       "           EventId  Type  Severity       StartTime(UTC)         EndTime(UTC)  \\\n",
       "0              W-1  Snow     Light  2016-01-06 23:14:00  2016-01-07 00:34:00   \n",
       "1              W-2  Snow     Light  2016-01-07 04:14:00  2016-01-07 04:54:00   \n",
       "2              W-3  Snow     Light  2016-01-07 05:54:00  2016-01-07 15:34:00   \n",
       "3              W-4  Snow     Light  2016-01-08 05:34:00  2016-01-08 05:54:00   \n",
       "4              W-5  Snow     Light  2016-01-08 13:54:00  2016-01-08 15:54:00   \n",
       "...            ...   ...       ...                  ...                  ...   \n",
       "6274201  W-6276144  Snow     Light  2020-12-14 17:30:00  2020-12-15 01:53:00   \n",
       "6274202  W-6276145  Snow  Moderate  2020-12-15 01:53:00  2020-12-15 03:19:00   \n",
       "6274203  W-6276146  Snow     Light  2020-12-15 03:19:00  2020-12-15 05:53:00   \n",
       "6274204  W-6276147  Snow     Light  2020-12-23 04:24:00  2020-12-23 05:53:00   \n",
       "6274205  W-6276148  Snow     Light  2020-12-23 10:53:00  2020-12-23 11:26:00   \n",
       "\n",
       "            TimeZone AirportCode  LocationLat  LocationLng      City  \\\n",
       "0        US/Mountain        K04V      38.0972    -106.1689  Saguache   \n",
       "1        US/Mountain        K04V      38.0972    -106.1689  Saguache   \n",
       "2        US/Mountain        K04V      38.0972    -106.1689  Saguache   \n",
       "3        US/Mountain        K04V      38.0972    -106.1689  Saguache   \n",
       "4        US/Mountain        K04V      38.0972    -106.1689  Saguache   \n",
       "...              ...         ...          ...          ...       ...   \n",
       "6274201  US/Mountain        KBVR      42.5833    -108.2833    Lander   \n",
       "6274202  US/Mountain        KBVR      42.5833    -108.2833    Lander   \n",
       "6274203  US/Mountain        KBVR      42.5833    -108.2833    Lander   \n",
       "6274204  US/Mountain        KBVR      42.5833    -108.2833    Lander   \n",
       "6274205  US/Mountain        KBVR      42.5833    -108.2833    Lander   \n",
       "\n",
       "           County State  ZipCode  \n",
       "0        Saguache    CO  81149.0  \n",
       "1        Saguache    CO  81149.0  \n",
       "2        Saguache    CO  81149.0  \n",
       "3        Saguache    CO  81149.0  \n",
       "4        Saguache    CO  81149.0  \n",
       "...           ...   ...      ...  \n",
       "6274201   Fremont    WY  82520.0  \n",
       "6274202   Fremont    WY  82520.0  \n",
       "6274203   Fremont    WY  82520.0  \n",
       "6274204   Fremont    WY  82520.0  \n",
       "6274205   Fremont    WY  82520.0  \n",
       "\n",
       "[6274206 rows x 13 columns]"
      ]
     },
     "execution_count": 20,
     "metadata": {},
     "output_type": "execute_result"
    }
   ],
   "source": [
    "weather_df"
   ]
  },
  {
   "cell_type": "code",
   "execution_count": 21,
   "id": "cordless-three",
   "metadata": {},
   "outputs": [
    {
     "data": {
      "text/plain": [
       "ZipCode\n",
       "97366.0    15638\n",
       "97141.0    14196\n",
       "59873.0    11142\n",
       "71459.0    11126\n",
       "32542.0    10626\n",
       "32403.0    10195\n",
       "55616.0     9719\n",
       "29527.0     9268\n",
       "32925.0     8361\n",
       "82834.0     8270\n",
       "dtype: int64"
      ]
     },
     "execution_count": 21,
     "metadata": {},
     "output_type": "execute_result"
    }
   ],
   "source": [
    "weather_df.value_counts('ZipCode').head(10)"
   ]
  },
  {
   "cell_type": "code",
   "execution_count": 22,
   "id": "worthy-given",
   "metadata": {},
   "outputs": [
    {
     "data": {
      "text/plain": [
       "[<matplotlib.lines.Line2D at 0x1e17d1bcdc0>]"
      ]
     },
     "execution_count": 22,
     "metadata": {},
     "output_type": "execute_result"
    },
    {
     "data": {
      "image/png": "[encoded data removed]",
      "text/plain": [
       "<Figure size 432x288 with 1 Axes>"
      ]
     },
     "metadata": {
      "needs_background": "light"
     },
     "output_type": "display_data"
    }
   ],
   "source": [
    "plt.plot(weather_df.value_counts('ZipCode').head(10))"
   ]
  },
  {
   "cell_type": "code",
   "execution_count": 23,
   "id": "matched-offset",
   "metadata": {},
   "outputs": [
    {
     "data": {
      "image/png": "[encoded data removed]",
      "text/plain": [
       "<Figure size 864x432 with 1 Axes>"
      ]
     },
     "metadata": {
      "needs_background": "light"
     },
     "output_type": "display_data"
    }
   ],
   "source": [
    "import matplotlib.pyplot as plt\n",
    "City=['Jacksonville','Columbus','Cleveland','Washington','Greenville','Jackson','Marion','Burlington','Buffalo','South Beach']\n",
    "No_of_cities=[25797,25409,23787,21944,21814,20010,17000,16338,15693,15638]\n",
    "\n",
    "\n",
    "plt.figure(figsize=(12, 6))\n",
    "\n",
    "plt.plot(City,No_of_cities, marker='s', c='b', ls='-', lw=2, ms=8, mew=2, mec='navy')\n",
    "\n",
    "\n",
    "plt.xlabel('City')\n",
    "plt.ylabel('No. of Cities')\n",
    "\n",
    "plt.title(\"Cities Quantity in Data\")\n",
    "plt.legend(['City', 'No. of Cities']);"
   ]
  },
  {
   "cell_type": "code",
   "execution_count": 24,
   "id": "prompt-terrace",
   "metadata": {},
   "outputs": [
    {
     "data": {
      "text/plain": [
       "(6274206, 13)"
      ]
     },
     "execution_count": 24,
     "metadata": {},
     "output_type": "execute_result"
    }
   ],
   "source": [
    "weather_df.shape"
   ]
  },
  {
   "cell_type": "code",
   "execution_count": null,
   "id": "flexible-proxy",
   "metadata": {},
   "outputs": [],
   "source": []
  }
 ],
 "metadata": {
  "kernelspec": {
   "display_name": "Python 3",
   "language": "python",
   "name": "python3"
  },
  "language_info": {
   "codemirror_mode": {
    "name": "ipython",
    "version": 3
   },
   "file_extension": ".py",
   "mimetype": "text/x-python",
   "name": "python",
   "nbconvert_exporter": "python",
   "pygments_lexer": "ipython3",
   "version": "3.8.3"
  }
 },
 "nbformat": 4,
 "nbformat_minor": 5
}
